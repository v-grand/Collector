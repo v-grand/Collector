{
  "cells": [
    {
      "cell_type": "markdown",
      "metadata": {
        "id": "view-in-github",
        "colab_type": "text"
      },
      "source": [
        "<a href=\"https://colab.research.google.com/github/v-grand/Collector/blob/main/crypto_robot.ipynb\" target=\"_parent\"><img src=\"https://colab.research.google.com/assets/colab-badge.svg\" alt=\"Open In Colab\"/></a>"
      ]
    },
    {
      "cell_type": "markdown",
      "metadata": {
        "id": "AR51tGs7SLDz"
      },
      "source": [
        "# Instal"
      ]
    },
    {
      "cell_type": "code",
      "execution_count": 1,
      "metadata": {
        "colab": {
          "base_uri": "https://localhost:8080/"
        },
        "id": "cGsVKO5RSEZj",
        "outputId": "f9998e63-3233-419b-cdcc-dbaca5473b85"
      },
      "outputs": [
        {
          "output_type": "stream",
          "name": "stdout",
          "text": [
            "Requirement already satisfied: ta in /usr/local/lib/python3.11/dist-packages (0.11.0)\n",
            "Requirement already satisfied: numpy in /usr/local/lib/python3.11/dist-packages (from ta) (1.26.4)\n",
            "Requirement already satisfied: pandas in /usr/local/lib/python3.11/dist-packages (from ta) (2.2.2)\n",
            "Requirement already satisfied: python-dateutil>=2.8.2 in /usr/local/lib/python3.11/dist-packages (from pandas->ta) (2.8.2)\n",
            "Requirement already satisfied: pytz>=2020.1 in /usr/local/lib/python3.11/dist-packages (from pandas->ta) (2024.2)\n",
            "Requirement already satisfied: tzdata>=2022.7 in /usr/local/lib/python3.11/dist-packages (from pandas->ta) (2024.2)\n",
            "Requirement already satisfied: six>=1.5 in /usr/local/lib/python3.11/dist-packages (from python-dateutil>=2.8.2->pandas->ta) (1.17.0)\n",
            "Requirement already satisfied: mplfinance in /usr/local/lib/python3.11/dist-packages (0.12.10b0)\n",
            "Requirement already satisfied: matplotlib in /usr/local/lib/python3.11/dist-packages (from mplfinance) (3.10.0)\n",
            "Requirement already satisfied: pandas in /usr/local/lib/python3.11/dist-packages (from mplfinance) (2.2.2)\n",
            "Requirement already satisfied: contourpy>=1.0.1 in /usr/local/lib/python3.11/dist-packages (from matplotlib->mplfinance) (1.3.1)\n",
            "Requirement already satisfied: cycler>=0.10 in /usr/local/lib/python3.11/dist-packages (from matplotlib->mplfinance) (0.12.1)\n",
            "Requirement already satisfied: fonttools>=4.22.0 in /usr/local/lib/python3.11/dist-packages (from matplotlib->mplfinance) (4.55.3)\n",
            "Requirement already satisfied: kiwisolver>=1.3.1 in /usr/local/lib/python3.11/dist-packages (from matplotlib->mplfinance) (1.4.8)\n",
            "Requirement already satisfied: numpy>=1.23 in /usr/local/lib/python3.11/dist-packages (from matplotlib->mplfinance) (1.26.4)\n",
            "Requirement already satisfied: packaging>=20.0 in /usr/local/lib/python3.11/dist-packages (from matplotlib->mplfinance) (24.2)\n",
            "Requirement already satisfied: pillow>=8 in /usr/local/lib/python3.11/dist-packages (from matplotlib->mplfinance) (11.1.0)\n",
            "Requirement already satisfied: pyparsing>=2.3.1 in /usr/local/lib/python3.11/dist-packages (from matplotlib->mplfinance) (3.2.1)\n",
            "Requirement already satisfied: python-dateutil>=2.7 in /usr/local/lib/python3.11/dist-packages (from matplotlib->mplfinance) (2.8.2)\n",
            "Requirement already satisfied: pytz>=2020.1 in /usr/local/lib/python3.11/dist-packages (from pandas->mplfinance) (2024.2)\n",
            "Requirement already satisfied: tzdata>=2022.7 in /usr/local/lib/python3.11/dist-packages (from pandas->mplfinance) (2024.2)\n",
            "Requirement already satisfied: six>=1.5 in /usr/local/lib/python3.11/dist-packages (from python-dateutil>=2.7->matplotlib->mplfinance) (1.17.0)\n"
          ]
        }
      ],
      "source": [
        "!pip install ta\n",
        "!pip install mplfinance"
      ]
    },
    {
      "cell_type": "markdown",
      "metadata": {
        "id": "ty6MuIn8SG5y"
      },
      "source": [
        "### Import"
      ]
    },
    {
      "cell_type": "code",
      "execution_count": 2,
      "metadata": {
        "colab": {
          "base_uri": "https://localhost:8080/"
        },
        "id": "VHiUOYmkRvTm",
        "outputId": "bc7f35e6-95a1-4609-940e-f9b4985131e2"
      },
      "outputs": [
        {
          "output_type": "stream",
          "name": "stdout",
          "text": [
            "Drive already mounted at /content/drive; to attempt to forcibly remount, call drive.mount(\"/content/drive\", force_remount=True).\n"
          ]
        }
      ],
      "source": [
        "\n",
        "'''\n",
        "%pip install prophet\n",
        "\n",
        "'''\n",
        "import requests\n",
        "import urllib\n",
        "\n",
        "import pandas as pd\n",
        "\n",
        "import matplotlib.pyplot as plt\n",
        "import matplotlib.dates as mdates\n",
        "import numpy as np\n",
        "\n",
        "import pandas as pd\n",
        "from prophet import Prophet\n",
        "\n",
        "from datetime import datetime, timedelta\n",
        "import numpy as np\n",
        "from pandas import DataFrame\n",
        "import pandas as pd\n",
        "\n",
        "\n",
        "from sklearn.preprocessing import MinMaxScaler\n",
        "import ta\n",
        "from typing import Tuple\n",
        "import yfinance as yf\n",
        "\n",
        "from sklearn.ensemble import RandomForestRegressor\n",
        "import pandas as pd\n",
        "from sklearn.model_selection import train_test_split\n",
        "import joblib\n",
        "from sklearn.metrics import mean_squared_error\n",
        "\n",
        "\n",
        "from google.colab import drive\n",
        "#from tensorflow.keras.models import load_model\n",
        "\n",
        "from prophet import Prophet\n",
        "\n",
        "# Подключение Google Drive\n",
        "drive.mount('/content/drive')"
      ]
    },
    {
      "cell_type": "markdown",
      "metadata": {
        "id": "3jd_vK0IScxx"
      },
      "source": [
        "# Function"
      ]
    },
    {
      "cell_type": "code",
      "execution_count": 3,
      "metadata": {
        "id": "QF_XxXImUTJu"
      },
      "outputs": [],
      "source": [
        "def scale_data(data:DataFrame, columns_x, columns_y) -> Tuple[MinMaxScaler, np.ndarray, np.ndarray]:\n",
        "\n",
        "    # Prepare target variable\n",
        "    y = data[columns_y].values\n",
        "    X = data [columns_x]\n",
        "\n",
        "    # Scale features\n",
        "    scaler = MinMaxScaler(feature_range=(0, 1))\n",
        "    X_scaled = scaler.fit_transform(X)\n",
        "    y_scaled = scaler.fit_transform(y.reshape(-1, 1)).reshape(-1)\n",
        "\n",
        "    return scaler, X_scaled, y_scaled"
      ]
    },
    {
      "cell_type": "markdown",
      "metadata": {
        "id": "k3zJ-cATobI8"
      },
      "source": [
        "# EXTRACT"
      ]
    },
    {
      "cell_type": "code",
      "source": [
        "import yfinance as yf\n",
        "import pandas as pd\n",
        "import os\n",
        "\n",
        "def extract_yf_data(ticker, periods, intervals):\n",
        "    \"\"\"\n",
        "    Загружает данные для всех указанных интервалов и возвращает их в виде словаря.\n",
        "\n",
        "    :param ticker: Символ тикера, например, 'BTC-USD'.\n",
        "    :param periods: Период загрузки данных, например, '10y', 'max'.\n",
        "    :param intervals: Список интервалов для загрузки данных, например, ['1m', '5m', '1d'].\n",
        "    :return: Словарь с данными для каждого интервала.\n",
        "    \"\"\"\n",
        "    datasets = {}\n",
        "\n",
        "    for interval in intervals:\n",
        "        try:\n",
        "            print(f\"Загрузка данных для интервала {interval}...\")\n",
        "            data = yf.download(tickers=ticker, period=periods, interval=interval)\n",
        "            if data.empty:\n",
        "                #print(f\"Нет данных для интервала {interval}. Пропускаем.\")\n",
        "                continue\n",
        "            else:\n",
        "              # Добавляем столбец с интервалом для удобства\n",
        "              #data['interval'] = interval\n",
        "\n",
        "              # Сохраняем данные в словарь\n",
        "              datasets[interval] = data\n",
        "              print(f'{interval} ___ {datasets[interval].shape}')\n",
        "              #print(datasets[interval].info())\n",
        "\n",
        "        except Exception as e:\n",
        "          pass\n",
        "            #print(f\"Ошибка при загрузке данных для интервала {interval}: {e}\")\n",
        "\n",
        "    print(\"Загрузка завершена.\")\n",
        "    return datasets\n",
        "\n",
        "\n"
      ],
      "metadata": {
        "id": "O29awZy1spn0"
      },
      "execution_count": 10,
      "outputs": []
    },
    {
      "cell_type": "code",
      "source": [
        "# Пример использования\n",
        "ticker_ = 'BTC-USD'\n",
        "period_ = 'max'\n",
        "#intervals_ = ['1m', '2m', '5m', '15m', '30m', '60m', '90m', '1h', '1d', '5d', '1wk', '1mo', '3mo']\n",
        "intervals_ = ['1m','5m', '15m', '30m', '60m', '90m', '1h', '1d', '5d', '1wk', '1mo', '3mo']\n",
        "\n",
        "\n",
        "\n",
        "# Загрузка данных\n",
        "datasets = extract_yf_data (ticker_, period_, intervals_)"
      ],
      "metadata": {
        "colab": {
          "base_uri": "https://localhost:8080/"
        },
        "id": "4FWEtaOJvRyz",
        "outputId": "653e2167-a284-4320-a8a3-5b677bdf3d79"
      },
      "execution_count": 11,
      "outputs": [
        {
          "output_type": "stream",
          "name": "stdout",
          "text": [
            "Загрузка данных для интервала 1m...\n"
          ]
        },
        {
          "output_type": "stream",
          "name": "stderr",
          "text": [
            "\r[*********************100%***********************]  1 of 1 completed\n"
          ]
        },
        {
          "output_type": "stream",
          "name": "stdout",
          "text": [
            "1m ___ (7846, 5)\n",
            "Загрузка данных для интервала 5m...\n"
          ]
        },
        {
          "output_type": "stream",
          "name": "stderr",
          "text": [
            "\r[*********************100%***********************]  1 of 1 completed\n"
          ]
        },
        {
          "output_type": "stream",
          "name": "stdout",
          "text": [
            "5m ___ (17256, 5)\n",
            "Загрузка данных для интервала 15m...\n"
          ]
        },
        {
          "output_type": "stream",
          "name": "stderr",
          "text": [
            "[*********************100%***********************]  1 of 1 completed\n",
            "[*********************100%***********************]  1 of 1 completed\n"
          ]
        },
        {
          "output_type": "stream",
          "name": "stdout",
          "text": [
            "15m ___ (5754, 5)\n",
            "Загрузка данных для интервала 30m...\n",
            "30m ___ (2878, 5)\n",
            "Загрузка данных для интервала 60m...\n"
          ]
        },
        {
          "output_type": "stream",
          "name": "stderr",
          "text": [
            "[*********************100%***********************]  1 of 1 completed\n",
            "[*********************100%***********************]  1 of 1 completed\n"
          ]
        },
        {
          "output_type": "stream",
          "name": "stdout",
          "text": [
            "60m ___ (17433, 5)\n",
            "Загрузка данных для интервала 90m...\n",
            "90m ___ (961, 5)\n",
            "Загрузка данных для интервала 1h...\n"
          ]
        },
        {
          "output_type": "stream",
          "name": "stderr",
          "text": [
            "[*********************100%***********************]  1 of 1 completed\n",
            "[*********************100%***********************]  1 of 1 completed\n"
          ]
        },
        {
          "output_type": "stream",
          "name": "stdout",
          "text": [
            "1h ___ (17436, 5)\n",
            "Загрузка данных для интервала 1d...\n",
            "1d ___ (3783, 5)\n",
            "Загрузка данных для интервала 5d...\n"
          ]
        },
        {
          "output_type": "stream",
          "name": "stderr",
          "text": [
            "[*********************100%***********************]  1 of 1 completed\n",
            "[*********************100%***********************]  1 of 1 completed\n",
            "[*********************100%***********************]  1 of 1 completed\n"
          ]
        },
        {
          "output_type": "stream",
          "name": "stdout",
          "text": [
            "5d ___ (757, 5)\n",
            "Загрузка данных для интервала 1wk...\n",
            "1wk ___ (541, 5)\n",
            "Загрузка данных для интервала 1mo...\n",
            "1mo ___ (124, 5)\n",
            "Загрузка данных для интервала 3mo...\n"
          ]
        },
        {
          "output_type": "stream",
          "name": "stderr",
          "text": [
            "\r[*********************100%***********************]  1 of 1 completed"
          ]
        },
        {
          "output_type": "stream",
          "name": "stdout",
          "text": [
            "3mo ___ (43, 5)\n",
            "Загрузка завершена.\n"
          ]
        },
        {
          "output_type": "stream",
          "name": "stderr",
          "text": [
            "\n"
          ]
        }
      ]
    },
    {
      "cell_type": "code",
      "source": [
        "for dataset in datasets:\n",
        "  print(dataset)\n",
        "print(datasets[dataset].head())"
      ],
      "metadata": {
        "colab": {
          "base_uri": "https://localhost:8080/"
        },
        "id": "ihAty9z5rTbH",
        "outputId": "aa593d91-a382-44d3-e989-0a090f52a86b"
      },
      "execution_count": 12,
      "outputs": [
        {
          "output_type": "stream",
          "name": "stdout",
          "text": [
            "1m\n",
            "5m\n",
            "15m\n",
            "30m\n",
            "60m\n",
            "90m\n",
            "1h\n",
            "1d\n",
            "5d\n",
            "1wk\n",
            "1mo\n",
            "3mo\n",
            "Price            Close        High         Low        Open      Volume\n",
            "Ticker         BTC-USD     BTC-USD     BTC-USD     BTC-USD     BTC-USD\n",
            "Date                                                                  \n",
            "2014-09-01  378.046997  457.092987  289.295990  387.427002  1562727810\n",
            "2014-12-01  254.263000  384.037994  171.509995  378.248993  2363432922\n",
            "2015-03-01  230.190002  300.044006  214.873993  254.283005  2199559600\n",
            "2015-06-01  230.056000  314.394012  199.567001  230.233002  2534864700\n",
            "2015-09-01  377.321014  495.562012  225.117004  230.255997  3734526796\n"
          ]
        }
      ]
    },
    {
      "cell_type": "code",
      "source": [
        "print(datasets[dataset].head())"
      ],
      "metadata": {
        "colab": {
          "base_uri": "https://localhost:8080/"
        },
        "id": "hmX6ZyuY8qam",
        "outputId": "42557c56-bb9a-4f4a-caf2-0d2afc9013aa"
      },
      "execution_count": 13,
      "outputs": [
        {
          "output_type": "stream",
          "name": "stdout",
          "text": [
            "Price            Close        High         Low        Open      Volume\n",
            "Ticker         BTC-USD     BTC-USD     BTC-USD     BTC-USD     BTC-USD\n",
            "Date                                                                  \n",
            "2014-09-01  378.046997  457.092987  289.295990  387.427002  1562727810\n",
            "2014-12-01  254.263000  384.037994  171.509995  378.248993  2363432922\n",
            "2015-03-01  230.190002  300.044006  214.873993  254.283005  2199559600\n",
            "2015-06-01  230.056000  314.394012  199.567001  230.233002  2534864700\n",
            "2015-09-01  377.321014  495.562012  225.117004  230.255997  3734526796\n"
          ]
        }
      ]
    },
    {
      "cell_type": "code",
      "source": [
        "print(datasets['1m'].info())"
      ],
      "metadata": {
        "colab": {
          "base_uri": "https://localhost:8080/"
        },
        "id": "-SNQMFSh9KYi",
        "outputId": "d9f2cd8b-3ec3-40e2-a897-b3dc9e373c9c"
      },
      "execution_count": 14,
      "outputs": [
        {
          "output_type": "stream",
          "name": "stdout",
          "text": [
            "<class 'pandas.core.frame.DataFrame'>\n",
            "DatetimeIndex: 7846 entries, 2025-01-17 14:59:00+00:00 to 2025-01-24 14:54:00+00:00\n",
            "Data columns (total 5 columns):\n",
            " #   Column             Non-Null Count  Dtype  \n",
            "---  ------             --------------  -----  \n",
            " 0   (Close, BTC-USD)   7846 non-null   float64\n",
            " 1   (High, BTC-USD)    7846 non-null   float64\n",
            " 2   (Low, BTC-USD)     7846 non-null   float64\n",
            " 3   (Open, BTC-USD)    7846 non-null   float64\n",
            " 4   (Volume, BTC-USD)  7846 non-null   int64  \n",
            "dtypes: float64(4), int64(1)\n",
            "memory usage: 367.8 KB\n",
            "None\n"
          ]
        }
      ]
    },
    {
      "cell_type": "markdown",
      "source": [
        "# Robot"
      ],
      "metadata": {
        "id": "6llDYKjqz3sB"
      }
    },
    {
      "cell_type": "code",
      "source": [
        "import pandas as pd\n",
        "import numpy as np\n",
        "import matplotlib.pyplot as plt\n",
        "\n",
        "class CryptoTradingBot:\n",
        "    def __init__(self, initial_balance, dataset_path, ):\n",
        "        self.balance = initial_balance\n",
        "        self.positions = []\n",
        "        self.dataset = pd.read_csv(dataset_path)\n",
        "        self.dataset['signal'] = 0\n",
        "        self.dataset['profit'] = 0\n",
        "\n",
        "    def generate_signals(self):\n",
        "        \"\"\"Generate trading signals based on a moving average strategy.\"\"\"\n",
        "        short_window = 10\n",
        "        long_window = 50\n",
        "\n",
        "        self.dataset['short_ma'] = self.dataset['close'].rolling(window=short_window).mean()\n",
        "        self.dataset['long_ma'] = self.dataset['close'].rolling(window=long_window).mean()\n",
        "\n",
        "        self.dataset['signal'] = np.where(self.dataset['short_ma'] > self.dataset['long_ma'], 1, -1)\n",
        "\n",
        "    def execute_trades(self):\n",
        "        \"\"\"Simulate trades based on generated signals.\"\"\"\n",
        "        for i in range(1, len(self.dataset)):\n",
        "            signal = self.dataset['signal'].iloc[i]\n",
        "            price = self.dataset['close'].iloc[i]\n",
        "\n",
        "            if signal == 1:  # Buy signal\n",
        "                self.positions.append(price)\n",
        "            elif signal == -1 and self.positions:  # Sell signal\n",
        "                entry_price = self.positions.pop(0)\n",
        "                profit = price - entry_price\n",
        "                self.balance += profit\n",
        "                self.dataset.loc[i, 'profit'] = profit\n",
        "\n",
        "    def backtest(self):\n",
        "        \"\"\"Run the backtest and calculate performance metrics.\"\"\"\n",
        "        self.generate_signals()\n",
        "        self.execute_trades()\n",
        "\n",
        "        total_profit = self.dataset['profit'].sum()\n",
        "        win_rate = (self.dataset['profit'] > 0).mean()\n",
        "\n",
        "        print(f\"Initial Balance: {self.balance - total_profit:.2f}\")\n",
        "        print(f\"Final Balance: {self.balance:.2f}\")\n",
        "        print(f\"Total Profit: {total_profit:.2f}\")\n",
        "        print(f\"Win Rate: {win_rate:.2%}\")\n",
        "\n",
        "    def plot_results(self):\n",
        "        \"\"\"Plot the results of the backtest.\"\"\"\n",
        "        plt.figure(figsize=(14, 7))\n",
        "        plt.plot(self.dataset['close'], label='Close Price', alpha=0.7)\n",
        "        plt.plot(self.dataset['short_ma'], label='Short Moving Average', alpha=0.7)\n",
        "        plt.plot(self.dataset['long_ma'], label='Long Moving Average', alpha=0.7)\n",
        "\n",
        "        plt.legend()\n",
        "        plt.title(\"Trading Strategy Backtest\")\n",
        "        plt.show()\n",
        "\n",
        "if __name__ == \"__main__\":\n",
        "    dataset_path = \"crypto_prices.csv\"  # Replace with your dataset file\n",
        "    initial_balance = 10000\n",
        "\n",
        "    bot = CryptoTradingBot(initial_balance, dataset_path)\n",
        "    bot.backtest()\n",
        "    bot.plot_results()\n"
      ],
      "metadata": {
        "colab": {
          "base_uri": "https://localhost:8080/",
          "height": 356
        },
        "id": "8xpZseG70CER",
        "outputId": "7cc7852f-440a-45c4-ead5-2695819a2acb"
      },
      "execution_count": 15,
      "outputs": [
        {
          "output_type": "error",
          "ename": "FileNotFoundError",
          "evalue": "[Errno 2] No such file or directory: 'crypto_prices.csv'",
          "traceback": [
            "\u001b[0;31m---------------------------------------------------------------------------\u001b[0m",
            "\u001b[0;31mFileNotFoundError\u001b[0m                         Traceback (most recent call last)",
            "\u001b[0;32m<ipython-input-15-6d7423472bcb>\u001b[0m in \u001b[0;36m<cell line: 0>\u001b[0;34m()\u001b[0m\n\u001b[1;32m     63\u001b[0m     \u001b[0minitial_balance\u001b[0m \u001b[0;34m=\u001b[0m \u001b[0;36m10000\u001b[0m\u001b[0;34m\u001b[0m\u001b[0;34m\u001b[0m\u001b[0m\n\u001b[1;32m     64\u001b[0m \u001b[0;34m\u001b[0m\u001b[0m\n\u001b[0;32m---> 65\u001b[0;31m     \u001b[0mbot\u001b[0m \u001b[0;34m=\u001b[0m \u001b[0mCryptoTradingBot\u001b[0m\u001b[0;34m(\u001b[0m\u001b[0minitial_balance\u001b[0m\u001b[0;34m,\u001b[0m \u001b[0mdataset_path\u001b[0m\u001b[0;34m)\u001b[0m\u001b[0;34m\u001b[0m\u001b[0;34m\u001b[0m\u001b[0m\n\u001b[0m\u001b[1;32m     66\u001b[0m     \u001b[0mbot\u001b[0m\u001b[0;34m.\u001b[0m\u001b[0mbacktest\u001b[0m\u001b[0;34m(\u001b[0m\u001b[0;34m)\u001b[0m\u001b[0;34m\u001b[0m\u001b[0;34m\u001b[0m\u001b[0m\n\u001b[1;32m     67\u001b[0m     \u001b[0mbot\u001b[0m\u001b[0;34m.\u001b[0m\u001b[0mplot_results\u001b[0m\u001b[0;34m(\u001b[0m\u001b[0;34m)\u001b[0m\u001b[0;34m\u001b[0m\u001b[0;34m\u001b[0m\u001b[0m\n",
            "\u001b[0;32m<ipython-input-15-6d7423472bcb>\u001b[0m in \u001b[0;36m__init__\u001b[0;34m(self, initial_balance, dataset_path)\u001b[0m\n\u001b[1;32m      7\u001b[0m         \u001b[0mself\u001b[0m\u001b[0;34m.\u001b[0m\u001b[0mbalance\u001b[0m \u001b[0;34m=\u001b[0m \u001b[0minitial_balance\u001b[0m\u001b[0;34m\u001b[0m\u001b[0;34m\u001b[0m\u001b[0m\n\u001b[1;32m      8\u001b[0m         \u001b[0mself\u001b[0m\u001b[0;34m.\u001b[0m\u001b[0mpositions\u001b[0m \u001b[0;34m=\u001b[0m \u001b[0;34m[\u001b[0m\u001b[0;34m]\u001b[0m\u001b[0;34m\u001b[0m\u001b[0;34m\u001b[0m\u001b[0m\n\u001b[0;32m----> 9\u001b[0;31m         \u001b[0mself\u001b[0m\u001b[0;34m.\u001b[0m\u001b[0mdataset\u001b[0m \u001b[0;34m=\u001b[0m \u001b[0mpd\u001b[0m\u001b[0;34m.\u001b[0m\u001b[0mread_csv\u001b[0m\u001b[0;34m(\u001b[0m\u001b[0mdataset_path\u001b[0m\u001b[0;34m)\u001b[0m\u001b[0;34m\u001b[0m\u001b[0;34m\u001b[0m\u001b[0m\n\u001b[0m\u001b[1;32m     10\u001b[0m         \u001b[0mself\u001b[0m\u001b[0;34m.\u001b[0m\u001b[0mdataset\u001b[0m\u001b[0;34m[\u001b[0m\u001b[0;34m'signal'\u001b[0m\u001b[0;34m]\u001b[0m \u001b[0;34m=\u001b[0m \u001b[0;36m0\u001b[0m\u001b[0;34m\u001b[0m\u001b[0;34m\u001b[0m\u001b[0m\n\u001b[1;32m     11\u001b[0m         \u001b[0mself\u001b[0m\u001b[0;34m.\u001b[0m\u001b[0mdataset\u001b[0m\u001b[0;34m[\u001b[0m\u001b[0;34m'profit'\u001b[0m\u001b[0;34m]\u001b[0m \u001b[0;34m=\u001b[0m \u001b[0;36m0\u001b[0m\u001b[0;34m\u001b[0m\u001b[0;34m\u001b[0m\u001b[0m\n",
            "\u001b[0;32m/usr/local/lib/python3.11/dist-packages/pandas/io/parsers/readers.py\u001b[0m in \u001b[0;36mread_csv\u001b[0;34m(filepath_or_buffer, sep, delimiter, header, names, index_col, usecols, dtype, engine, converters, true_values, false_values, skipinitialspace, skiprows, skipfooter, nrows, na_values, keep_default_na, na_filter, verbose, skip_blank_lines, parse_dates, infer_datetime_format, keep_date_col, date_parser, date_format, dayfirst, cache_dates, iterator, chunksize, compression, thousands, decimal, lineterminator, quotechar, quoting, doublequote, escapechar, comment, encoding, encoding_errors, dialect, on_bad_lines, delim_whitespace, low_memory, memory_map, float_precision, storage_options, dtype_backend)\u001b[0m\n\u001b[1;32m   1024\u001b[0m     \u001b[0mkwds\u001b[0m\u001b[0;34m.\u001b[0m\u001b[0mupdate\u001b[0m\u001b[0;34m(\u001b[0m\u001b[0mkwds_defaults\u001b[0m\u001b[0;34m)\u001b[0m\u001b[0;34m\u001b[0m\u001b[0;34m\u001b[0m\u001b[0m\n\u001b[1;32m   1025\u001b[0m \u001b[0;34m\u001b[0m\u001b[0m\n\u001b[0;32m-> 1026\u001b[0;31m     \u001b[0;32mreturn\u001b[0m \u001b[0m_read\u001b[0m\u001b[0;34m(\u001b[0m\u001b[0mfilepath_or_buffer\u001b[0m\u001b[0;34m,\u001b[0m \u001b[0mkwds\u001b[0m\u001b[0;34m)\u001b[0m\u001b[0;34m\u001b[0m\u001b[0;34m\u001b[0m\u001b[0m\n\u001b[0m\u001b[1;32m   1027\u001b[0m \u001b[0;34m\u001b[0m\u001b[0m\n\u001b[1;32m   1028\u001b[0m \u001b[0;34m\u001b[0m\u001b[0m\n",
            "\u001b[0;32m/usr/local/lib/python3.11/dist-packages/pandas/io/parsers/readers.py\u001b[0m in \u001b[0;36m_read\u001b[0;34m(filepath_or_buffer, kwds)\u001b[0m\n\u001b[1;32m    618\u001b[0m \u001b[0;34m\u001b[0m\u001b[0m\n\u001b[1;32m    619\u001b[0m     \u001b[0;31m# Create the parser.\u001b[0m\u001b[0;34m\u001b[0m\u001b[0;34m\u001b[0m\u001b[0m\n\u001b[0;32m--> 620\u001b[0;31m     \u001b[0mparser\u001b[0m \u001b[0;34m=\u001b[0m \u001b[0mTextFileReader\u001b[0m\u001b[0;34m(\u001b[0m\u001b[0mfilepath_or_buffer\u001b[0m\u001b[0;34m,\u001b[0m \u001b[0;34m**\u001b[0m\u001b[0mkwds\u001b[0m\u001b[0;34m)\u001b[0m\u001b[0;34m\u001b[0m\u001b[0;34m\u001b[0m\u001b[0m\n\u001b[0m\u001b[1;32m    621\u001b[0m \u001b[0;34m\u001b[0m\u001b[0m\n\u001b[1;32m    622\u001b[0m     \u001b[0;32mif\u001b[0m \u001b[0mchunksize\u001b[0m \u001b[0;32mor\u001b[0m \u001b[0miterator\u001b[0m\u001b[0;34m:\u001b[0m\u001b[0;34m\u001b[0m\u001b[0;34m\u001b[0m\u001b[0m\n",
            "\u001b[0;32m/usr/local/lib/python3.11/dist-packages/pandas/io/parsers/readers.py\u001b[0m in \u001b[0;36m__init__\u001b[0;34m(self, f, engine, **kwds)\u001b[0m\n\u001b[1;32m   1618\u001b[0m \u001b[0;34m\u001b[0m\u001b[0m\n\u001b[1;32m   1619\u001b[0m         \u001b[0mself\u001b[0m\u001b[0;34m.\u001b[0m\u001b[0mhandles\u001b[0m\u001b[0;34m:\u001b[0m \u001b[0mIOHandles\u001b[0m \u001b[0;34m|\u001b[0m \u001b[0;32mNone\u001b[0m \u001b[0;34m=\u001b[0m \u001b[0;32mNone\u001b[0m\u001b[0;34m\u001b[0m\u001b[0;34m\u001b[0m\u001b[0m\n\u001b[0;32m-> 1620\u001b[0;31m         \u001b[0mself\u001b[0m\u001b[0;34m.\u001b[0m\u001b[0m_engine\u001b[0m \u001b[0;34m=\u001b[0m \u001b[0mself\u001b[0m\u001b[0;34m.\u001b[0m\u001b[0m_make_engine\u001b[0m\u001b[0;34m(\u001b[0m\u001b[0mf\u001b[0m\u001b[0;34m,\u001b[0m \u001b[0mself\u001b[0m\u001b[0;34m.\u001b[0m\u001b[0mengine\u001b[0m\u001b[0;34m)\u001b[0m\u001b[0;34m\u001b[0m\u001b[0;34m\u001b[0m\u001b[0m\n\u001b[0m\u001b[1;32m   1621\u001b[0m \u001b[0;34m\u001b[0m\u001b[0m\n\u001b[1;32m   1622\u001b[0m     \u001b[0;32mdef\u001b[0m \u001b[0mclose\u001b[0m\u001b[0;34m(\u001b[0m\u001b[0mself\u001b[0m\u001b[0;34m)\u001b[0m \u001b[0;34m->\u001b[0m \u001b[0;32mNone\u001b[0m\u001b[0;34m:\u001b[0m\u001b[0;34m\u001b[0m\u001b[0;34m\u001b[0m\u001b[0m\n",
            "\u001b[0;32m/usr/local/lib/python3.11/dist-packages/pandas/io/parsers/readers.py\u001b[0m in \u001b[0;36m_make_engine\u001b[0;34m(self, f, engine)\u001b[0m\n\u001b[1;32m   1878\u001b[0m                 \u001b[0;32mif\u001b[0m \u001b[0;34m\"b\"\u001b[0m \u001b[0;32mnot\u001b[0m \u001b[0;32min\u001b[0m \u001b[0mmode\u001b[0m\u001b[0;34m:\u001b[0m\u001b[0;34m\u001b[0m\u001b[0;34m\u001b[0m\u001b[0m\n\u001b[1;32m   1879\u001b[0m                     \u001b[0mmode\u001b[0m \u001b[0;34m+=\u001b[0m \u001b[0;34m\"b\"\u001b[0m\u001b[0;34m\u001b[0m\u001b[0;34m\u001b[0m\u001b[0m\n\u001b[0;32m-> 1880\u001b[0;31m             self.handles = get_handle(\n\u001b[0m\u001b[1;32m   1881\u001b[0m                 \u001b[0mf\u001b[0m\u001b[0;34m,\u001b[0m\u001b[0;34m\u001b[0m\u001b[0;34m\u001b[0m\u001b[0m\n\u001b[1;32m   1882\u001b[0m                 \u001b[0mmode\u001b[0m\u001b[0;34m,\u001b[0m\u001b[0;34m\u001b[0m\u001b[0;34m\u001b[0m\u001b[0m\n",
            "\u001b[0;32m/usr/local/lib/python3.11/dist-packages/pandas/io/common.py\u001b[0m in \u001b[0;36mget_handle\u001b[0;34m(path_or_buf, mode, encoding, compression, memory_map, is_text, errors, storage_options)\u001b[0m\n\u001b[1;32m    871\u001b[0m         \u001b[0;32mif\u001b[0m \u001b[0mioargs\u001b[0m\u001b[0;34m.\u001b[0m\u001b[0mencoding\u001b[0m \u001b[0;32mand\u001b[0m \u001b[0;34m\"b\"\u001b[0m \u001b[0;32mnot\u001b[0m \u001b[0;32min\u001b[0m \u001b[0mioargs\u001b[0m\u001b[0;34m.\u001b[0m\u001b[0mmode\u001b[0m\u001b[0;34m:\u001b[0m\u001b[0;34m\u001b[0m\u001b[0;34m\u001b[0m\u001b[0m\n\u001b[1;32m    872\u001b[0m             \u001b[0;31m# Encoding\u001b[0m\u001b[0;34m\u001b[0m\u001b[0;34m\u001b[0m\u001b[0m\n\u001b[0;32m--> 873\u001b[0;31m             handle = open(\n\u001b[0m\u001b[1;32m    874\u001b[0m                 \u001b[0mhandle\u001b[0m\u001b[0;34m,\u001b[0m\u001b[0;34m\u001b[0m\u001b[0;34m\u001b[0m\u001b[0m\n\u001b[1;32m    875\u001b[0m                 \u001b[0mioargs\u001b[0m\u001b[0;34m.\u001b[0m\u001b[0mmode\u001b[0m\u001b[0;34m,\u001b[0m\u001b[0;34m\u001b[0m\u001b[0;34m\u001b[0m\u001b[0m\n",
            "\u001b[0;31mFileNotFoundError\u001b[0m: [Errno 2] No such file or directory: 'crypto_prices.csv'"
          ]
        }
      ]
    }
  ],
  "metadata": {
    "colab": {
      "collapsed_sections": [
        "AR51tGs7SLDz",
        "3jd_vK0IScxx",
        "k3zJ-cATobI8"
      ],
      "provenance": [],
      "include_colab_link": true
    },
    "kernelspec": {
      "display_name": "Python 3",
      "name": "python3"
    },
    "language_info": {
      "name": "python"
    }
  },
  "nbformat": 4,
  "nbformat_minor": 0
}